{
 "cells": [
  {
   "cell_type": "code",
   "execution_count": 1,
   "id": "7b236e51-0895-4149-9e4e-dc5f8afb3a99",
   "metadata": {},
   "outputs": [],
   "source": [
    "from selenium import webdriver\n",
    "from selenium.webdriver.common.by import By\n",
    "from selenium.webdriver.common.keys import Keys\n",
    "from selenium.common.exceptions import NoSuchElementException\n",
    "from selenium.webdriver.chrome.service import Service\n",
    "from selenium.webdriver.chrome.options import Options\n",
    "from webdriver_manager.chrome import ChromeDriverManager\n",
    "import time\n",
    "import tqdm\n",
    "import multiprocessing"
   ]
  },
  {
   "cell_type": "code",
   "execution_count": 2,
   "id": "c3143fe9-e763-4294-bd95-7eb448234ad2",
   "metadata": {},
   "outputs": [],
   "source": [
    "def crawl_bios(url, path):\n",
    "    driver = webdriver.Chrome(service=Service(ChromeDriverManager().install()))\n",
    "    driver.get(url)\n",
    "\n",
    "    faculty_list = []\n",
    "    \n",
    "    while True:\n",
    "        driver.implicitly_wait(1)        \n",
    "        \n",
    "        for link in driver.find_elements(By.CLASS_NAME, \"listTableLink\"):\n",
    "            name = link.text\n",
    "            link = link.get_attribute(\"href\")\n",
    "            faculty_list.append({\"name\": name, \"link\": link})\n",
    "    \n",
    "        try:\n",
    "            if driver.find_element(By.LINK_TEXT, \"Next\"):\n",
    "                driver.execute_script(\"GotoNextPage()\")\n",
    "        except NoSuchElementException:\n",
    "            break\n",
    "    \n",
    "    print(\"total:\", len(faculty_list))\n",
    "    driver.quit()\n",
    "    \n",
    "    !mkdir -p {path}\n",
    "\n",
    "    for member in tqdm.tqdm(faculty_list):\n",
    "        url = member['link']\n",
    "        sid = member['link'].split('/')[-1]\n",
    "        !wkhtmltopdf {member[\"link\"]} {path}/{sid}.pdf 2> /dev/null"
   ]
  },
  {
   "cell_type": "code",
   "execution_count": 6,
   "id": "cf022bef-0520-4cd2-a846-75a01b386615",
   "metadata": {},
   "outputs": [
    {
     "name": "stdout",
     "output_type": "stream",
     "text": [
      "total: 135\n"
     ]
    },
    {
     "name": "stderr",
     "output_type": "stream",
     "text": [
      "100%|█████████████████████████████████████████████████████████████████████████████████████████████████████████████████████████████████████████████| 135/135 [07:46<00:00,  3.45s/it]\n"
     ]
    }
   ],
   "source": [
    "url = \"https://profiles.viictr.org/search/default.aspx?searchtype=people&searchfor=&exactphrase=false&perpage=15&offset=0&page=1&totalpages=9&searchrequest=A81BSfTwU3GNm4liSODkW6vB3EBYO6gz+a5TY1bFhuz1tc7ngL4Orww3064KoquG+9VriFtrDjogfSknlN6Jz7ictMT0qk3g10zM0TMIEPsEyvmx6bLpcnNFGJ4exv4/fFAesBf4NHrkI4nVpsBeSKg1prKuDu5Ad3xZR2IG1VXzQt2Kl5Hs5a708T2/vlG+0DSye5g9KBjG4Q1kuBhnZNV3TLVPhoChvEqCnKALU7ZRLf9sGwpWskDxoXMVaNPYAwiQl8MzFLF2vn0XHwe33P4dbv6TQAHMT0S3yLBlOqE2EcKuitYkZL7mHaCy6ljRC72SAVs+Z6QbaaEwq6Tgm5TZG7XBzcJllYZikhKLWgkrMqeYrVc28HcyVvV8Evo9uZ0QA4vYSGcV+sJBOcTuVp/UFemfxXsTdI9fj5a9U48Ky/srfa4vAsbTVTkpNSSkpdpGky4n51w3ttdSVrYJXCsyp5itVzbwZymRpR9yiLMBmZps9n7iC5mtEs7uQNvlSRWtWOyJWbJF/Ha6Hj2DBG2kVPXQDexsIGqEDor0Na95YIysV24SGzr3bR3hmG7SiCwOSCR+ir22fz7Cx1rCUn+IZtz9oDuzblNtVGHGs7L0EU/AK/10Huy9ix21XCiebSU6OWR6KdiILA5IJH6KvbZ/PsLHWsJSf4hm3P2gO7NuU21UYcazsvQRT8Ar/XQeffFyoY4SE1FtJTo5ZHop2IgsDkgkfoq9tn8+wsdawlJ/iGbc/aA7s25TbVRhxrOy9BFPwCv9dB4OJ3LCRlAtbvu/vkgNdwBXB1J8saJBnpNLI4nbH3OPCXSPX4+WvVOPNsd/Vh3EQ0OG2YEh7DrObehr24JiO2xIQNFR8cTjuf1gWwQlgb8RuWm2F2GaEMfaCarVXOP1y6uUai6lFcUxXaSMi7j4WrJThhEHx3QozpwX1tvs6vP4VonDeNgjTf9zsxn/a+aiGXsECtLzjOZOcrioiCd3rzPp/PA+m8mzbkdRKr03NmSFJVimJpy2qJeWa9SQC06LGXui37e1KFy8tb5GjAEJc+dGTmD6EEI3oOZmuOACPokSFA==&sortby=institution&sortdirection=desc&showcolumns=9\"\n",
    "path = \"pdfs/pathology\"\n",
    "crawl_bios(url, path)"
   ]
  },
  {
   "cell_type": "code",
   "execution_count": 7,
   "id": "63353c24-f1a7-40be-9ebf-19186e6c03e0",
   "metadata": {},
   "outputs": [
    {
     "name": "stdout",
     "output_type": "stream",
     "text": [
      "total: 206\n"
     ]
    },
    {
     "name": "stderr",
     "output_type": "stream",
     "text": [
      "100%|█████████████████████████████████████████████████████████████████████████████████████████████████████████████████████████████████████████████| 206/206 [11:35<00:00,  3.38s/it]\n"
     ]
    }
   ],
   "source": [
    "url = \"https://profiles.viictr.org/search/default.aspx?searchtype=people&searchfor=&exactphrase=false&perpage=15&offset=0&page=1&totalpages=14&searchrequest=A81BSfTwU3GNm4liSODkW6vB3EBYO6gz+a5TY1bFhuz1tc7ngL4Orww3064KoquG+9VriFtrDjogfSknlN6Jz7ictMT0qk3g10zM0TMIEPsEyvmx6bLpcnNFGJ4exv4/fFAesBf4NHrkI4nVpsBeSKg1prKuDu5Ad3xZR2IG1VXzQt2Kl5Hs5a708T2/vlG+0DSye5g9KBjG4Q1kuBhnZNV3TLVPhoChvEqCnKALU7a7awqf6lAuskQW4rD5G/OC/lXclIHC7LtUeKfMKIzva4dDNw2yad/+Ztpp+7k5ZCyw78HL/ylb8xtpoTCrpOCblNkbtcHNwmWVhmKSEotaCSsyp5itVzbwdzJW9XwS+j25nRADi9hIZybx9/XsZkgt1AkcLhXvFSl0j1+Plr1TjwrL+yt9ri8CbV4AD7/YiKH22j+pOXz0QAThXqT7QluXXpb0TscAJCXSHPK1PeliMd0mvJ5TRtnJi2ilQdNFEyp1p1/BDwnOhclkPC+FZ/RXVPVWrJIq5F2hJjw8cDb6b1mibXVPCVuxd4pjs7XtftYRfl16cZEcnZJZ2U9lJZxuc0UYnh7G/j98UB6wF/g0euQjidWmwF5IqDWmsq4O7kB3fFlHYgbVVfNC3YqXkezlTdaMkVseuIQsc8/CHJZ1IcWyxXl4AkYZULCws9AFsn/YvkbJ8h3qMIgsDkgkfoq9tn8+wsdawlJ/iGbc/aA7s25TbVRhxrOye1NJ232Pj/qEAbWYHGWYYgdSfLGiQZ6TDztANbnjEfTPvCdL+RehgIx9R1m+zlpmKwhDoTZZgau2fz7Cx1rCUmSAH1fN+OlTFVrEEojd6CBhjfYy10mQtNdJDRmB+sr0oW09OBIAuEXgqOW2v4ztW+0lyHejJlm+khQCKL2RgksES924SNHwDy4IMooYIuw7RBf3iaSOqfUZFsllxXqrxgx1xtQHdR5WAbiIoee1kysLEJoLVIJoVF+1hKMwC1NJLggyihgi7DtEF/eJpI6p9RkWyWXFeqvGDHXG1Ad1HlYBuIih57WTK89uKyClX6eiX7WEozALU0kuCDKKGCLsO0QX94mkjqn1GRbJZcV6q8YMdcbUB3UeVgG4iKHntZMrhcmHH2dN5aefAG4vB5gM+fW1zueAvg6v0Fn9C/FjHkIHUnyxokGek2+PuGgz3B2gRb/LXAdoFsTXCLCGRpIeyDGTfStX2/LZIg33JFrhE9ENpsFk4HZxodrozRwr1K6et4qTdw6407VLeWj5QIIBJ6Bhti3mkNYIWPPp2cGxYro349zBICyFVXO9TdiPkNm2dhs1/G235Kb4Bqk84bxO0S7Z1/mD0OownqqSlfk3Gnvwhak0tGgaywCXoucOyao7tQcHDkJggI+RdKL49Oyper5FFbsy+5kMcp43lR77dig=&sortby=&sortdirection=&showcolumns=9\"\n",
    "path = \"pdfs/surgery\"\n",
    "crawl_bios(url, path)"
   ]
  },
  {
   "cell_type": "code",
   "execution_count": 3,
   "id": "67ad7acd-f97d-4627-b2a1-f718b6a0a16e",
   "metadata": {},
   "outputs": [
    {
     "name": "stdout",
     "output_type": "stream",
     "text": [
      "total: 1181\n"
     ]
    },
    {
     "name": "stderr",
     "output_type": "stream",
     "text": [
      "100%|████████████████████████████████████████████████████████████████████| 1181/1181 [1:12:36<00:00,  3.69s/it]\n"
     ]
    }
   ],
   "source": [
    "url = \"https://profiles.viictr.org/search/default.aspx?showcolumns=1&searchtype=people&otherfilters=&searchrequest=A81BSfTwU3GNm4liSODkW6vB3EBYO6gz+a5TY1bFhuz1tc7ngL4Orww3064KoquG+9VriFtrDjogfSknlN6Jz7ictMT0qk3g10zM0TMIEPsEyvmx6bLpcnNFGJ4exv4/fFAesBf4NHrkI4nVpsBeSKg1prKuDu5Ad3xZR2IG1VXzQt2Kl5Hs5a708T2/vlG+0DSye5g9KBjG4Q1kuBhnZAsDzRQkDR38klnZT2UlnG774nyA2dru0SIu9XaJe2Vd5sGS5MfW+ZRpNT79jDpQICGGFNfg5WTlXIPkbYJjpf3YGfCjPCJ3A81UJRyGY9MF14VFc7hjK08KUw/CXldSQkQX94mkjqn1GRbJZcV6q8YMdcbUB3UeVgUHmLQA7INKLsictgHvVcL1tc7ngL4Or2BgPoCYhvcEdI9fj5a9U4/8OigV51+oglRnSu//SLHvjH1HWb7OWmYrCEOhNlmBq7Z/PsLHWsJSZIAfV8346VMVWsQSiN3oIGGN9jLXSZC010kNGYH6yvTtuL5pI2IiiZgevCUih0f3vmYbjqDWiC08TnyRrJKGE/Ija0iyg/oaKwhDoTZZgau2fz7Cx1rCUmSAH1fN+OlTFVrEEojd6CBhjfYy10mQtNdJDRmB+sr0qj61OBf+xqDD+6Clu8wvckIBgwTrFvbm7X3tdBvSWESSFAIovZGCSzP0EoNHt5PiUF26eANDXMkWXAx5IRPustF+EEOAWlaZMfmQk2RtrZ8KVVPJ9ULGiQTN/PyW6vHZjcQbuuaMR4L71WuIW2sOOmewrnD02Fw7+R+y+T/Y9KX9IpuVPscRmRZcDHkhE+6ydSo6q0ZbCIfdXi0Gwne1qYr2RZYX0O1ckypD+rEV7YElktoOVxS87ZXU3TK16A7b8cEM/w/xBRGf7m+jS6kxm5GTdNeRci74lYZikhKLWgkrMqeYrVc28HcyVvV8Evo9uZ0QA4vYSGdQKT9AP+WAM9lou7yxCR7aZ8YSoVp/ktWVhmKSEotaCSsyp5itVzbwdzJW9XwS+j25nRADi9hIZ1ApP0A/5YAzGhxSs6Vk3slnxhKhWn+S1ZWGYpISi1oJKzKnmK1XNvB3Mlb1fBL6PbmdEAOL2EhnUCk/QD/lgDNGWEOT9HK1MmfGEqFaf5LVlYZikhKLWgkrMqeYrVc28HcyVvV8Evo9uZ0QA4vYSGdQKT9AP+WAM6knDZYXy7K5uNPR4aK+9dV0j1+Plr1Tj5o2sb4yq/dHQCHq9lsbsWc+PI78HvSj3effUeDCdDS//+X5kyJCdnTl1NRvGtP8+JTX+2F+83/B6TOivnZCpdZZXNdWnoXzMtxeA1KmbO+Wznor571hUnRMAebHj/0wCiI9K3ixiSN+Kyx7O1KJwJkbGoDXvnoFzPxYMIUFLSocFbqit95hIGB2IMw31zP9F7DFYBT0DYonA6CTqYn+H9rSc/pV8LVwVJWzDHy2nw9vxUJP75UBaELU8rSqrRMysbfKH9x9OCDi\"\n",
    "path = \"pdfs/pediatrics\"\n",
    "crawl_bios(url, path)"
   ]
  },
  {
   "cell_type": "code",
   "execution_count": null,
   "id": "ba13ba78-fd23-4a05-b2b3-c14b4ba30874",
   "metadata": {},
   "outputs": [],
   "source": []
  }
 ],
 "metadata": {
  "kernelspec": {
   "display_name": "Python 3 (ipykernel)",
   "language": "python",
   "name": "python3"
  },
  "language_info": {
   "codemirror_mode": {
    "name": "ipython",
    "version": 3
   },
   "file_extension": ".py",
   "mimetype": "text/x-python",
   "name": "python",
   "nbconvert_exporter": "python",
   "pygments_lexer": "ipython3",
   "version": "3.10.14"
  }
 },
 "nbformat": 4,
 "nbformat_minor": 5
}
